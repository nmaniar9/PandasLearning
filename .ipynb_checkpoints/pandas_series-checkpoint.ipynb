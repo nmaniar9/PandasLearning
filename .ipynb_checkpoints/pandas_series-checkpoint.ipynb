{
 "cells": [
  {
   "cell_type": "markdown",
   "id": "368b3f2d",
   "metadata": {},
   "source": [
    "### Series\n",
    "\n",
    "series objects have an index and a name, series have a single axis."
   ]
  },
  {
   "cell_type": "markdown",
   "id": "b2571b2b",
   "metadata": {},
   "source": [
    "#### Chapter 4"
   ]
  },
  {
   "cell_type": "code",
   "execution_count": 1,
   "id": "bfe74e1e",
   "metadata": {},
   "outputs": [],
   "source": [
    "#series as a dictionary\n",
    "\n",
    "series = {\n",
    "    'index': [0,1,2,3],\n",
    "    'data' : [145, 142, 38, 13],\n",
    "    'name':'songs'\n",
    "}\n",
    "#series index also supoorts non integers such as strings\n",
    "#many series operations happen using index or looking up index"
   ]
  },
  {
   "cell_type": "code",
   "execution_count": 2,
   "id": "1a9139e2",
   "metadata": {},
   "outputs": [],
   "source": [
    "def get(series, index):\n",
    "    value_idx = series['index'].index(index)\n",
    "    return series['data'][value_idx]\n"
   ]
  },
  {
   "cell_type": "code",
   "execution_count": 3,
   "id": "1aee0941",
   "metadata": {},
   "outputs": [
    {
     "data": {
      "text/plain": [
       "142"
      ]
     },
     "execution_count": 3,
     "metadata": {},
     "output_type": "execute_result"
    }
   ],
   "source": [
    "get(series,1)"
   ]
  },
  {
   "cell_type": "code",
   "execution_count": 6,
   "id": "6ba96be1-1392-46f3-87bc-0d16204c58cc",
   "metadata": {},
   "outputs": [
    {
     "name": "stdout",
     "output_type": "stream",
     "text": [
      "Defaulting to user installation because normal site-packages is not writeable\n",
      "Collecting pandas\n",
      "  Downloading pandas-2.0.3-cp310-cp310-manylinux_2_17_x86_64.manylinux2014_x86_64.whl (12.3 MB)\n",
      "\u001b[2K     \u001b[38;2;114;156;31m━━━━━━━━━━━━━━━━━━━━━━━━━━━━━━━━━━━━━━━━\u001b[0m \u001b[32m12.3/12.3 MB\u001b[0m \u001b[31m20.5 MB/s\u001b[0m eta \u001b[36m0:00:00\u001b[0mm eta \u001b[36m0:00:01\u001b[0m[36m0:00:01\u001b[0m\n",
      "\u001b[?25hCollecting numpy>=1.21.0\n",
      "  Downloading numpy-1.25.2-cp310-cp310-manylinux_2_17_x86_64.manylinux2014_x86_64.whl (18.2 MB)\n",
      "\u001b[2K     \u001b[38;2;114;156;31m━━━━━━━━━━━━━━━━━━━━━━━━━━━━━━━━━━━━━━━━\u001b[0m \u001b[32m18.2/18.2 MB\u001b[0m \u001b[31m18.7 MB/s\u001b[0m eta \u001b[36m0:00:00\u001b[0mm eta \u001b[36m0:00:01\u001b[0m[36m0:00:01\u001b[0m\n",
      "\u001b[?25hRequirement already satisfied: python-dateutil>=2.8.2 in /home/neil/.local/lib/python3.10/site-packages (from pandas) (2.8.2)\n",
      "Requirement already satisfied: pytz>=2020.1 in /usr/lib/python3/dist-packages (from pandas) (2022.1)\n",
      "Collecting tzdata>=2022.1\n",
      "  Downloading tzdata-2023.3-py2.py3-none-any.whl (341 kB)\n",
      "\u001b[2K     \u001b[38;2;114;156;31m━━━━━━━━━━━━━━━━━━━━━━━━━━━━━━━━━━━━━━\u001b[0m \u001b[32m341.8/341.8 KB\u001b[0m \u001b[31m12.9 MB/s\u001b[0m eta \u001b[36m0:00:00\u001b[0m\n",
      "\u001b[?25hRequirement already satisfied: six>=1.5 in /usr/lib/python3/dist-packages (from python-dateutil>=2.8.2->pandas) (1.16.0)\n",
      "Installing collected packages: tzdata, numpy, pandas\n",
      "Successfully installed numpy-1.25.2 pandas-2.0.3 tzdata-2023.3\n",
      "Note: you may need to restart the kernel to use updated packages.\n"
     ]
    }
   ],
   "source": [
    "pip install pandas"
   ]
  },
  {
   "cell_type": "code",
   "execution_count": 7,
   "id": "7ee8692d",
   "metadata": {},
   "outputs": [],
   "source": [
    "#creating a series\n",
    "import pandas as pd\n",
    "\n",
    "songs2 = pd.Series([145, 142, 38, 13],\n",
    "                  name='counts')"
   ]
  },
  {
   "cell_type": "code",
   "execution_count": 8,
   "id": "405c4080",
   "metadata": {},
   "outputs": [
    {
     "data": {
      "text/plain": [
       "0    145\n",
       "1    142\n",
       "2     38\n",
       "3     13\n",
       "Name: counts, dtype: int64"
      ]
     },
     "execution_count": 8,
     "metadata": {},
     "output_type": "execute_result"
    }
   ],
   "source": [
    "songs2\n",
    "#index is also called axis labels"
   ]
  },
  {
   "cell_type": "code",
   "execution_count": 9,
   "id": "21605e85",
   "metadata": {},
   "outputs": [
    {
     "data": {
      "text/plain": [
       "RangeIndex(start=0, stop=4, step=1)"
      ]
     },
     "execution_count": 9,
     "metadata": {},
     "output_type": "execute_result"
    }
   ],
   "source": [
    "#inspect index\n",
    "songs2.index"
   ]
  },
  {
   "cell_type": "code",
   "execution_count": 10,
   "id": "9a56d488",
   "metadata": {},
   "outputs": [],
   "source": [
    "# .count() ignores nan values\n",
    "# .size does not ignore nan values\n",
    "# .cat.ordered (true or false)\n",
    "# to convert non categorical series to an ordered category use a typ with CategoricalDtype constructor\n",
    "# .astype cast series to to dtype"
   ]
  },
  {
   "cell_type": "markdown",
   "id": "7c3f1f56",
   "metadata": {},
   "source": [
    "#### Chapter 5"
   ]
  },
  {
   "cell_type": "code",
   "execution_count": 16,
   "id": "b8a8acdb",
   "metadata": {},
   "outputs": [
    {
     "name": "stderr",
     "output_type": "stream",
     "text": [
      "/tmp/ipykernel_8187/3103446029.py:3: DtypeWarning: Columns (68,70,71,72,73,74,76,79) have mixed types. Specify dtype option on import or set low_memory=False.\n",
      "  df = pd.read_csv(url)\n"
     ]
    }
   ],
   "source": [
    "import pandas as pd\n",
    "url = 'https://github.com/mattharrison/datasets/raw/master/data/vehicles.csv.zip' \n",
    "df = pd.read_csv(url)\n",
    "city_mpg = df.city08\n",
    "highway_mpg = df.highway08"
   ]
  },
  {
   "cell_type": "code",
   "execution_count": 17,
   "id": "36633e0c",
   "metadata": {},
   "outputs": [
    {
     "data": {
      "text/plain": [
       "412"
      ]
     },
     "execution_count": 17,
     "metadata": {},
     "output_type": "execute_result"
    }
   ],
   "source": [
    "len(dir(city_mpg))"
   ]
  },
  {
   "cell_type": "code",
   "execution_count": 18,
   "id": "b6277ab4-476e-43be-9f29-6ca0a9798008",
   "metadata": {},
   "outputs": [],
   "source": [
    "#Dunder Methods provide numberic operations\n",
    "    #corresponding operator methods to numeric operations\n",
    "#Aggregate Methods\n",
    "#Conversion Methods\n",
    "#Manipulation Methods\n",
    "#Indexing and Accessor Methods\n",
    "#String Manipulations\n",
    "#Date Manipulations\n",
    "#Plotting Methods\n",
    "#Categorical Methods\n",
    "#Transform Methods\n",
    "#.index and .dtype"
   ]
  },
  {
   "cell_type": "code",
   "execution_count": null,
   "id": "79f67be5-7a94-48ec-8cbb-d6057f1f3c5a",
   "metadata": {},
   "outputs": [],
   "source": []
  }
 ],
 "metadata": {
  "kernelspec": {
   "display_name": "Python 3 (ipykernel)",
   "language": "python",
   "name": "python3"
  },
  "language_info": {
   "codemirror_mode": {
    "name": "ipython",
    "version": 3
   },
   "file_extension": ".py",
   "mimetype": "text/x-python",
   "name": "python",
   "nbconvert_exporter": "python",
   "pygments_lexer": "ipython3",
   "version": "3.10.12"
  }
 },
 "nbformat": 4,
 "nbformat_minor": 5
}
