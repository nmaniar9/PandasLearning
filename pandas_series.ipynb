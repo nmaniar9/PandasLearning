{
 "cells": [
  {
   "cell_type": "markdown",
   "id": "368b3f2d",
   "metadata": {},
   "source": [
    "### Series\n",
    "\n",
    "series objects have an index and a name, series have a single axis."
   ]
  },
  {
   "cell_type": "markdown",
   "id": "b2571b2b",
   "metadata": {},
   "source": [
    "#### Chapter 4"
   ]
  },
  {
   "cell_type": "code",
   "execution_count": 1,
   "id": "bfe74e1e",
   "metadata": {},
   "outputs": [],
   "source": [
    "#series as a dictionary\n",
    "\n",
    "series = {\n",
    "    'index': [0,1,2,3],\n",
    "    'data' : [145, 142, 38, 13],\n",
    "    'name':'songs'\n",
    "}\n",
    "#series index also supoorts non integers such as strings\n",
    "#many series operations happen using index or looking up index"
   ]
  },
  {
   "cell_type": "code",
   "execution_count": 2,
   "id": "1a9139e2",
   "metadata": {},
   "outputs": [],
   "source": [
    "def get(series, index):\n",
    "    value_idx = series['index'].index(index)\n",
    "    return series['data'][value_idx]\n"
   ]
  },
  {
   "cell_type": "code",
   "execution_count": 3,
   "id": "1aee0941",
   "metadata": {},
   "outputs": [
    {
     "data": {
      "text/plain": [
       "142"
      ]
     },
     "execution_count": 3,
     "metadata": {},
     "output_type": "execute_result"
    }
   ],
   "source": [
    "get(series,1)"
   ]
  },
  {
   "cell_type": "code",
   "execution_count": 6,
   "id": "7ee8692d",
   "metadata": {},
   "outputs": [],
   "source": [
    "#creating a series\n",
    "import pandas as pd\n",
    "\n",
    "songs2 = pd.Series([145, 142, 38, 13],\n",
    "                  name='counts')"
   ]
  },
  {
   "cell_type": "code",
   "execution_count": 7,
   "id": "405c4080",
   "metadata": {},
   "outputs": [
    {
     "data": {
      "text/plain": [
       "0    145\n",
       "1    142\n",
       "2     38\n",
       "3     13\n",
       "Name: counts, dtype: int64"
      ]
     },
     "execution_count": 7,
     "metadata": {},
     "output_type": "execute_result"
    }
   ],
   "source": [
    "songs2\n",
    "#index is also called axis labels"
   ]
  },
  {
   "cell_type": "code",
   "execution_count": 8,
   "id": "21605e85",
   "metadata": {},
   "outputs": [
    {
     "data": {
      "text/plain": [
       "RangeIndex(start=0, stop=4, step=1)"
      ]
     },
     "execution_count": 8,
     "metadata": {},
     "output_type": "execute_result"
    }
   ],
   "source": [
    "#inspect index\n",
    "songs2.index"
   ]
  },
  {
   "cell_type": "code",
   "execution_count": 9,
   "id": "9a56d488",
   "metadata": {},
   "outputs": [],
   "source": [
    "# .count() ignores nan values\n",
    "# .size does not ignore nan values\n",
    "# .cat.ordered (true or false)\n",
    "# to convert non categorical series to an ordered category use a typ with CategoricalDtype constructor\n",
    "# .astype cast series to to dtype"
   ]
  },
  {
   "cell_type": "markdown",
   "id": "7c3f1f56",
   "metadata": {},
   "source": [
    "#### Chapter 5"
   ]
  },
  {
   "cell_type": "code",
   "execution_count": 10,
   "id": "b8a8acdb",
   "metadata": {},
   "outputs": [
    {
     "name": "stderr",
     "output_type": "stream",
     "text": [
      "/tmp/ipykernel_16202/3103446029.py:3: DtypeWarning: Columns (68,70,71,72,73,74,76,79) have mixed types. Specify dtype option on import or set low_memory=False.\n",
      "  df = pd.read_csv(url)\n"
     ]
    }
   ],
   "source": [
    "import pandas as pd\n",
    "url = 'https://github.com/mattharrison/datasets/raw/master/data/vehicles.csv.zip' \n",
    "df = pd.read_csv(url)\n",
    "city_mpg = df.city08\n",
    "highway_mpg = df.highway08"
   ]
  },
  {
   "cell_type": "code",
   "execution_count": 11,
   "id": "36633e0c",
   "metadata": {},
   "outputs": [
    {
     "data": {
      "text/plain": [
       "412"
      ]
     },
     "execution_count": 11,
     "metadata": {},
     "output_type": "execute_result"
    }
   ],
   "source": [
    "len(dir(city_mpg))"
   ]
  },
  {
   "cell_type": "code",
   "execution_count": 12,
   "id": "b6277ab4-476e-43be-9f29-6ca0a9798008",
   "metadata": {},
   "outputs": [],
   "source": [
    "#Dunder Methods provide numberic operations\n",
    "    #corresponding operator methods to numeric operations\n",
    "#Aggregate Methods\n",
    "#Conversion Methods\n",
    "#Manipulation Methods\n",
    "#Indexing and Accessor Methods\n",
    "#String Manipulations\n",
    "#Date Manipulations\n",
    "#Plotting Methods\n",
    "#Categorical Methods\n",
    "#Transform Methods\n",
    "#.index and .dtype"
   ]
  },
  {
   "cell_type": "markdown",
   "id": "6677afe5-80d0-4b63-8300-ff87451eecf3",
   "metadata": {},
   "source": [
    "#### Operators"
   ]
  },
  {
   "cell_type": "code",
   "execution_count": 13,
   "id": "980a54d5-e720-4ee9-8a09-d29ee2b0b3a6",
   "metadata": {},
   "outputs": [],
   "source": [
    "#dunder methods determine how the Python language reacts to operations"
   ]
  },
  {
   "cell_type": "code",
   "execution_count": 14,
   "id": "42863da2-0ad5-43ae-ae5e-8013df9f5649",
   "metadata": {},
   "outputs": [
    {
     "data": {
      "text/plain": [
       "0        22.0\n",
       "1        11.5\n",
       "2        28.0\n",
       "3        11.0\n",
       "4        20.0\n",
       "         ... \n",
       "41139    22.5\n",
       "41140    24.0\n",
       "41141    21.0\n",
       "41142    21.0\n",
       "41143    18.5\n",
       "Length: 41144, dtype: float64"
      ]
     },
     "execution_count": 14,
     "metadata": {},
     "output_type": "execute_result"
    }
   ],
   "source": [
    "(city_mpg +highway_mpg) / 2\n",
    "#index is aligned before operation to be sure that index are unique and common to both series\n",
    "#Scalar operations are broadcasted to all values in pandas"
   ]
  },
  {
   "cell_type": "code",
   "execution_count": 15,
   "id": "2cb3ee55-7e50-4313-9b13-036cc779bba3",
   "metadata": {},
   "outputs": [],
   "source": [
    "#avoid using for loops with pandas, use .__iter__ method on the series. pandas uses vectorization and operates at c level"
   ]
  },
  {
   "cell_type": "code",
   "execution_count": 16,
   "id": "463cc550-4bc2-4ed0-aa46-2d74551f6a47",
   "metadata": {},
   "outputs": [
    {
     "data": {
      "text/plain": [
       "0        22.0\n",
       "1        11.5\n",
       "2        28.0\n",
       "3        11.0\n",
       "4        20.0\n",
       "         ... \n",
       "41139    22.5\n",
       "41140    24.0\n",
       "41141    21.0\n",
       "41142    21.0\n",
       "41143    18.5\n",
       "Length: 41144, dtype: float64"
      ]
     },
     "execution_count": 16,
     "metadata": {},
     "output_type": "execute_result"
    }
   ],
   "source": [
    "#good to use chaining\n",
    "(city_mpg.add(highway_mpg)).div(2)"
   ]
  },
  {
   "cell_type": "markdown",
   "id": "3fbe27fc-de86-4d08-9eef-df7da78583ba",
   "metadata": {},
   "source": [
    "#### Aggregate Methods 7"
   ]
  },
  {
   "cell_type": "code",
   "execution_count": 2,
   "id": "9285b54f-8e8a-4a08-8df5-4f40c840eb42",
   "metadata": {},
   "outputs": [],
   "source": [
    "#.mean\n",
    "#.is_unique\n",
    "#.quantile()\n",
    "#.sum\n",
    "#.gt(#) > than"
   ]
  },
  {
   "cell_type": "markdown",
   "id": "1e3aff46-05b2-483a-9075-2da5ff923c20",
   "metadata": {},
   "source": [
    "#### Conversion Methods 8"
   ]
  },
  {
   "cell_type": "code",
   "execution_count": 4,
   "id": "d0364683-29d5-4613-9ac0-2813ede2f84e",
   "metadata": {},
   "outputs": [],
   "source": [
    "#.convert_dtypes()\n",
    "#.astype('Int64')\n",
    "    #-- \"Int64,int,str,float,category,dates\""
   ]
  },
  {
   "cell_type": "code",
   "execution_count": 5,
   "id": "9312670f-73fa-43f0-8e22-bfa01d7424eb",
   "metadata": {},
   "outputs": [],
   "source": [
    "#calculate memory usage of a series\n",
    "\n",
    "#.nbytes\n",
    "#.memory_usage()"
   ]
  },
  {
   "cell_type": "code",
   "execution_count": 6,
   "id": "4f2ff53b-aa8d-4902-9bc3-789315f49d98",
   "metadata": {},
   "outputs": [],
   "source": [
    "#dataframe with single column\n",
    "\n",
    "#.to_frame()"
   ]
  },
  {
   "cell_type": "markdown",
   "id": "1128e563-81d9-49e0-8532-78914f74e170",
   "metadata": {},
   "source": [
    "#### Manipulation Methods 9"
   ]
  },
  {
   "cell_type": "code",
   "execution_count": null,
   "id": "5f038a2e-65a1-4d2d-b486-91d6b6941c6a",
   "metadata": {},
   "outputs": [],
   "source": [
    "#.value_counts()\n",
    "#.isin()\n",
    "#.where()"
   ]
  },
  {
   "cell_type": "code",
   "execution_count": 1,
   "id": "c437fb07-7287-4662-85af-e44b9892bcbe",
   "metadata": {},
   "outputs": [],
   "source": [
    "#.mask() is the compliment of .where()\n",
    "\n"
   ]
  },
  {
   "cell_type": "code",
   "execution_count": 2,
   "id": "e08386d4-17b8-4a43-8d53-3ed481ae326d",
   "metadata": {},
   "outputs": [],
   "source": [
    "#Missing values\n",
    "    #.isna()\n",
    "    #.dropna()\n",
    "    #.ffill()\n",
    "    #.fillna\n",
    "    #.interpolate() good for data is ordered such as time series, and temperatures"
   ]
  },
  {
   "cell_type": "code",
   "execution_count": 3,
   "id": "1a157278-18a5-41c3-a4bb-fed4e066edeb",
   "metadata": {},
   "outputs": [],
   "source": [
    "#Clipping\n",
    "    #if you have outliers .clip()\n",
    "\n",
    "#Sorting\n",
    "    #.sort_values()\n",
    "    #.drop_duplicates()\n",
    "#Ranking\n",
    "    #.rank()\n",
    "#Replacing\n",
    "    #.replace()\n",
    "#Binning\n",
    "    #.cut()\n",
    "    #.qcut()"
   ]
  },
  {
   "cell_type": "markdown",
   "id": "64c9c2e5-095c-48ca-82d2-5f0d27c50d39",
   "metadata": {},
   "source": [
    "#### Indexing Operations"
   ]
  },
  {
   "cell_type": "code",
   "execution_count": 1,
   "id": "c3c3e6f5-a018-483e-b3ad-a62a8af1748f",
   "metadata": {},
   "outputs": [],
   "source": [
    "#.rename(), will return new series with the original values but new index labels\n",
    "#.reset_index(drop=True), creates new index and drops the current one\n",
    "#.loc, deals with index labels allows you to pull out peices of the series.\n",
    "    #.loc['subaru'],, .loc[['subaru','fisker']]\n",
    "#.iloc, uses the index position, supports list and ranges\n",
    "#.head(), .tail()\n",
    "#.sample()\n",
    "#.filter()\n",
    "#.reindex(), pulls out values with the index labels.\n"
   ]
  },
  {
   "cell_type": "code",
   "execution_count": null,
   "id": "eeef3f43-18be-4030-b636-4f3fcb288dc4",
   "metadata": {},
   "outputs": [],
   "source": []
  }
 ],
 "metadata": {
  "kernelspec": {
   "display_name": "Python 3 (ipykernel)",
   "language": "python",
   "name": "python3"
  },
  "language_info": {
   "codemirror_mode": {
    "name": "ipython",
    "version": 3
   },
   "file_extension": ".py",
   "mimetype": "text/x-python",
   "name": "python",
   "nbconvert_exporter": "python",
   "pygments_lexer": "ipython3",
   "version": "3.10.12"
  }
 },
 "nbformat": 4,
 "nbformat_minor": 5
}
